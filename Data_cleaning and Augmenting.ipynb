{
  "metadata": {
    "kernelspec": {
      "language": "python",
      "display_name": "Python 3",
      "name": "python3"
    },
    "language_info": {
      "name": "python",
      "version": "3.10.13",
      "mimetype": "text/x-python",
      "codemirror_mode": {
        "name": "ipython",
        "version": 3
      },
      "pygments_lexer": "ipython3",
      "nbconvert_exporter": "python",
      "file_extension": ".py"
    },
    "kaggle": {
      "accelerator": "none",
      "dataSources": [
        {
          "sourceId": 7389115,
          "sourceType": "datasetVersion",
          "datasetId": 4199523
        }
      ],
      "dockerImageVersionId": 30732,
      "isInternetEnabled": false,
      "language": "python",
      "sourceType": "notebook",
      "isGpuEnabled": false
    },
    "colab": {
      "name": "SAML_D",
      "provenance": []
    }
  },
  "nbformat_minor": 0,
  "nbformat": 4,
  "cells": [
    {
      "source": [
        "\n",
        "\n"
      ],
      "metadata": {
        "id": "4HcAuuydsjlg"
      },
      "cell_type": "code",
      "outputs": [],
      "execution_count": null
    },
    {
      "cell_type": "code",
      "source": [],
      "metadata": {
        "execution": {
          "iopub.status.busy": "2024-06-26T13:04:04.380932Z",
          "iopub.execute_input": "2024-06-26T13:04:04.381357Z",
          "iopub.status.idle": "2024-06-26T13:04:07.239987Z",
          "shell.execute_reply.started": "2024-06-26T13:04:04.381322Z",
          "shell.execute_reply": "2024-06-26T13:04:07.238714Z"
        },
        "trusted": true,
        "id": "r3sc1Obqsjlj"
      },
      "execution_count": null,
      "outputs": []
    },
    {
      "cell_type": "markdown",
      "source": [
        "# Data Cleaning"
      ],
      "metadata": {
        "id": "2NqD_g6-sjlj"
      }
    },
    {
      "cell_type": "code",
      "source": [
        "import pandas as pd\n",
        "import seaborn as sns\n",
        "import numpy as np\n",
        "import matplotlib.pyplot as plt\n",
        "%matplotlib inline"
      ],
      "metadata": {
        "execution": {
          "iopub.status.busy": "2024-06-26T13:06:45.787225Z",
          "iopub.execute_input": "2024-06-26T13:06:45.788213Z",
          "iopub.status.idle": "2024-06-26T13:06:45.795418Z",
          "shell.execute_reply.started": "2024-06-26T13:06:45.788173Z",
          "shell.execute_reply": "2024-06-26T13:06:45.794102Z"
        },
        "trusted": true,
        "id": "Jo1Lh4oEsjlk"
      },
      "execution_count": null,
      "outputs": []
    },
    {
      "cell_type": "code",
      "source": [
        "# load data from csv file\n",
        "df = pd.read_csv(\"/kaggle/input/synthetic-transaction-monitoring-dataset-aml/SAML-D.csv\")\n",
        "df.shape"
      ],
      "metadata": {
        "execution": {
          "iopub.status.busy": "2024-06-26T13:06:49.754782Z",
          "iopub.execute_input": "2024-06-26T13:06:49.755193Z",
          "iopub.status.idle": "2024-06-26T13:07:27.356193Z",
          "shell.execute_reply.started": "2024-06-26T13:06:49.75516Z",
          "shell.execute_reply": "2024-06-26T13:07:27.355059Z"
        },
        "trusted": true,
        "id": "c89J8mFvsjll",
        "outputId": "27486181-d1d0-4f66-9709-a301cf7dc787"
      },
      "execution_count": null,
      "outputs": [
        {
          "execution_count": 3,
          "output_type": "execute_result",
          "data": {
            "text/plain": "(9504852, 12)"
          },
          "metadata": {}
        }
      ]
    },
    {
      "cell_type": "markdown",
      "source": [
        "The dataset has more than 9 million entries , for simplicity purpose we use only  around 200k entries"
      ],
      "metadata": {
        "id": "G8iiHXOFsjln"
      }
    },
    {
      "cell_type": "code",
      "source": [
        "df = df.sample(n=200000, random_state=1)\n",
        "\n",
        "df.shape"
      ],
      "metadata": {
        "execution": {
          "iopub.status.busy": "2024-06-26T13:09:25.702368Z",
          "iopub.execute_input": "2024-06-26T13:09:25.702773Z",
          "iopub.status.idle": "2024-06-26T13:09:26.872536Z",
          "shell.execute_reply.started": "2024-06-26T13:09:25.702741Z",
          "shell.execute_reply": "2024-06-26T13:09:26.871468Z"
        },
        "trusted": true,
        "id": "bG8Lop3msjln",
        "outputId": "16ef1b13-c3cc-4a56-fa70-1b32d2431097"
      },
      "execution_count": null,
      "outputs": [
        {
          "execution_count": 5,
          "output_type": "execute_result",
          "data": {
            "text/plain": "(200000, 12)"
          },
          "metadata": {}
        }
      ]
    },
    {
      "cell_type": "code",
      "source": [
        "# check for duplicates\n",
        "df = df.drop_duplicates(keep = 'first')\n",
        "df.shape"
      ],
      "metadata": {
        "execution": {
          "iopub.status.busy": "2024-06-26T13:09:35.519708Z",
          "iopub.execute_input": "2024-06-26T13:09:35.520146Z",
          "iopub.status.idle": "2024-06-26T13:09:35.911612Z",
          "shell.execute_reply.started": "2024-06-26T13:09:35.520112Z",
          "shell.execute_reply": "2024-06-26T13:09:35.910122Z"
        },
        "trusted": true,
        "id": "2X7Lh0lcsjlo",
        "outputId": "0658f59d-1633-4922-f922-f3a49f3614cb"
      },
      "execution_count": null,
      "outputs": [
        {
          "execution_count": 6,
          "output_type": "execute_result",
          "data": {
            "text/plain": "(200000, 12)"
          },
          "metadata": {}
        }
      ]
    },
    {
      "cell_type": "code",
      "source": [
        "df.tail()"
      ],
      "metadata": {
        "execution": {
          "iopub.status.busy": "2024-06-26T13:09:40.919467Z",
          "iopub.execute_input": "2024-06-26T13:09:40.91996Z",
          "iopub.status.idle": "2024-06-26T13:09:40.94909Z",
          "shell.execute_reply.started": "2024-06-26T13:09:40.919923Z",
          "shell.execute_reply": "2024-06-26T13:09:40.94776Z"
        },
        "trusted": true,
        "id": "rLQktSY_sjlo",
        "outputId": "c9125a4d-dccf-4ae2-c0bf-80cf84834b8c"
      },
      "execution_count": null,
      "outputs": [
        {
          "execution_count": 7,
          "output_type": "execute_result",
          "data": {
            "text/plain": "             Time        Date  Sender_account  Receiver_account   Amount  \\\n8606623  15:17:25  2023-07-23      7029921966        3828530251  5632.33   \n6346650  11:37:07  2023-05-08      3518726122        9768510209  7214.17   \n8957570  18:28:26  2023-08-04      9456347626        1570347336  1940.43   \n7654334  13:26:45  2023-06-21      5296246312        6172615079  6304.50   \n9065824  13:04:39  2023-08-08      6517474457        8029865996   775.45   \n\n        Payment_currency Received_currency Sender_bank_location  \\\n8606623        UK pounds         UK pounds                   UK   \n6346650        UK pounds         UK pounds                   UK   \n8957570        UK pounds         UK pounds                   UK   \n7654334        UK pounds         UK pounds                   UK   \n9065824        UK pounds         UK pounds                   UK   \n\n        Receiver_bank_location Payment_type  Is_laundering  \\\n8606623                     UK          ACH              0   \n6346650                     UK          ACH              0   \n8957570                     UK       Cheque              0   \n7654334                     UK   Debit card              0   \n9065824                     UK          ACH              0   \n\n              Laundering_type  \n8606623    Normal_Plus_Mutual  \n6346650         Normal_Fan_In  \n8957570  Normal_Small_Fan_Out  \n7654334         Normal_Fan_In  \n9065824  Normal_Small_Fan_Out  ",
            "text/html": "<div>\n<style scoped>\n    .dataframe tbody tr th:only-of-type {\n        vertical-align: middle;\n    }\n\n    .dataframe tbody tr th {\n        vertical-align: top;\n    }\n\n    .dataframe thead th {\n        text-align: right;\n    }\n</style>\n<table border=\"1\" class=\"dataframe\">\n  <thead>\n    <tr style=\"text-align: right;\">\n      <th></th>\n      <th>Time</th>\n      <th>Date</th>\n      <th>Sender_account</th>\n      <th>Receiver_account</th>\n      <th>Amount</th>\n      <th>Payment_currency</th>\n      <th>Received_currency</th>\n      <th>Sender_bank_location</th>\n      <th>Receiver_bank_location</th>\n      <th>Payment_type</th>\n      <th>Is_laundering</th>\n      <th>Laundering_type</th>\n    </tr>\n  </thead>\n  <tbody>\n    <tr>\n      <th>8606623</th>\n      <td>15:17:25</td>\n      <td>2023-07-23</td>\n      <td>7029921966</td>\n      <td>3828530251</td>\n      <td>5632.33</td>\n      <td>UK pounds</td>\n      <td>UK pounds</td>\n      <td>UK</td>\n      <td>UK</td>\n      <td>ACH</td>\n      <td>0</td>\n      <td>Normal_Plus_Mutual</td>\n    </tr>\n    <tr>\n      <th>6346650</th>\n      <td>11:37:07</td>\n      <td>2023-05-08</td>\n      <td>3518726122</td>\n      <td>9768510209</td>\n      <td>7214.17</td>\n      <td>UK pounds</td>\n      <td>UK pounds</td>\n      <td>UK</td>\n      <td>UK</td>\n      <td>ACH</td>\n      <td>0</td>\n      <td>Normal_Fan_In</td>\n    </tr>\n    <tr>\n      <th>8957570</th>\n      <td>18:28:26</td>\n      <td>2023-08-04</td>\n      <td>9456347626</td>\n      <td>1570347336</td>\n      <td>1940.43</td>\n      <td>UK pounds</td>\n      <td>UK pounds</td>\n      <td>UK</td>\n      <td>UK</td>\n      <td>Cheque</td>\n      <td>0</td>\n      <td>Normal_Small_Fan_Out</td>\n    </tr>\n    <tr>\n      <th>7654334</th>\n      <td>13:26:45</td>\n      <td>2023-06-21</td>\n      <td>5296246312</td>\n      <td>6172615079</td>\n      <td>6304.50</td>\n      <td>UK pounds</td>\n      <td>UK pounds</td>\n      <td>UK</td>\n      <td>UK</td>\n      <td>Debit card</td>\n      <td>0</td>\n      <td>Normal_Fan_In</td>\n    </tr>\n    <tr>\n      <th>9065824</th>\n      <td>13:04:39</td>\n      <td>2023-08-08</td>\n      <td>6517474457</td>\n      <td>8029865996</td>\n      <td>775.45</td>\n      <td>UK pounds</td>\n      <td>UK pounds</td>\n      <td>UK</td>\n      <td>UK</td>\n      <td>ACH</td>\n      <td>0</td>\n      <td>Normal_Small_Fan_Out</td>\n    </tr>\n  </tbody>\n</table>\n</div>"
          },
          "metadata": {}
        }
      ]
    },
    {
      "cell_type": "code",
      "source": [
        "# Check for null or NaN values\n",
        "print(df.isna().sum())"
      ],
      "metadata": {
        "execution": {
          "iopub.status.busy": "2024-06-26T13:09:45.332942Z",
          "iopub.execute_input": "2024-06-26T13:09:45.33338Z",
          "iopub.status.idle": "2024-06-26T13:09:45.539584Z",
          "shell.execute_reply.started": "2024-06-26T13:09:45.333346Z",
          "shell.execute_reply": "2024-06-26T13:09:45.53834Z"
        },
        "trusted": true,
        "id": "zGHbq0g3sjlp",
        "outputId": "efcde3ff-4344-4889-b572-77d54cc42268"
      },
      "execution_count": null,
      "outputs": [
        {
          "name": "stdout",
          "text": "Time                      0\nDate                      0\nSender_account            0\nReceiver_account          0\nAmount                    0\nPayment_currency          0\nReceived_currency         0\nSender_bank_location      0\nReceiver_bank_location    0\nPayment_type              0\nIs_laundering             0\nLaundering_type           0\ndtype: int64\n",
          "output_type": "stream"
        }
      ]
    },
    {
      "cell_type": "code",
      "source": [
        "# check for blank strings\n",
        "print((df == '').sum())"
      ],
      "metadata": {
        "execution": {
          "iopub.status.busy": "2024-06-26T13:09:49.5484Z",
          "iopub.execute_input": "2024-06-26T13:09:49.548817Z",
          "iopub.status.idle": "2024-06-26T13:09:49.886797Z",
          "shell.execute_reply.started": "2024-06-26T13:09:49.548779Z",
          "shell.execute_reply": "2024-06-26T13:09:49.883951Z"
        },
        "trusted": true,
        "id": "HAemuhtKsjlp",
        "outputId": "82dcdb51-6b1c-4456-941e-4559c57199be"
      },
      "execution_count": null,
      "outputs": [
        {
          "name": "stdout",
          "text": "Time                      0\nDate                      0\nSender_account            0\nReceiver_account          0\nAmount                    0\nPayment_currency          0\nReceived_currency         0\nSender_bank_location      0\nReceiver_bank_location    0\nPayment_type              0\nIs_laundering             0\nLaundering_type           0\ndtype: int64\n",
          "output_type": "stream"
        }
      ]
    },
    {
      "cell_type": "code",
      "source": [
        "# Data types\n",
        "print(\"\\nData types:\")\n",
        "print(df.dtypes)"
      ],
      "metadata": {
        "execution": {
          "iopub.status.busy": "2024-06-26T13:09:54.980395Z",
          "iopub.execute_input": "2024-06-26T13:09:54.980804Z",
          "iopub.status.idle": "2024-06-26T13:09:54.988144Z",
          "shell.execute_reply.started": "2024-06-26T13:09:54.980772Z",
          "shell.execute_reply": "2024-06-26T13:09:54.98688Z"
        },
        "trusted": true,
        "id": "bIuOVjz4sjlq",
        "outputId": "755bef8e-5105-4c03-ec33-48279044683d"
      },
      "execution_count": null,
      "outputs": [
        {
          "name": "stdout",
          "text": "\nData types:\nTime                       object\nDate                       object\nSender_account              int64\nReceiver_account            int64\nAmount                    float64\nPayment_currency           object\nReceived_currency          object\nSender_bank_location       object\nReceiver_bank_location     object\nPayment_type               object\nIs_laundering               int64\nLaundering_type            object\ndtype: object\n",
          "output_type": "stream"
        }
      ]
    },
    {
      "cell_type": "markdown",
      "source": [
        "# Data Preprocessing"
      ],
      "metadata": {
        "id": "vjzWODYvsjlq"
      }
    },
    {
      "cell_type": "code",
      "source": [
        "# number of transactions per payment type\n",
        "transactions_per_payment_type = df['Payment_type'].value_counts()\n",
        "\n",
        "# number of laundering transactions per payment type\n",
        "laundering_transactions_per_payment_type = df[df['Is_laundering'] == 1].groupby('Payment_type').size()\n",
        "\n",
        "transactions_per_payment_type, laundering_transactions_per_payment_type"
      ],
      "metadata": {
        "execution": {
          "iopub.status.busy": "2024-06-26T13:09:59.646134Z",
          "iopub.execute_input": "2024-06-26T13:09:59.646539Z",
          "iopub.status.idle": "2024-06-26T13:09:59.700997Z",
          "shell.execute_reply.started": "2024-06-26T13:09:59.646509Z",
          "shell.execute_reply": "2024-06-26T13:09:59.698847Z"
        },
        "trusted": true,
        "id": "AH08J07jsjlq",
        "outputId": "6af8348e-87d3-489d-e0c0-04542331d147"
      },
      "execution_count": null,
      "outputs": [
        {
          "execution_count": 11,
          "output_type": "execute_result",
          "data": {
            "text/plain": "(Payment_type\n Cheque             42499\n Credit card        42413\n Debit card         42405\n ACH                42146\n Cross-border       19581\n Cash Withdrawal     6205\n Cash Deposit        4751\n Name: count, dtype: int64,\n Payment_type\n ACH                26\n Cash Deposit       31\n Cash Withdrawal    21\n Cheque             23\n Credit card        26\n Cross-border       49\n Debit card         19\n dtype: int64)"
          },
          "metadata": {}
        }
      ]
    },
    {
      "cell_type": "code",
      "source": [
        "df['Sender_bank_location'].unique()"
      ],
      "metadata": {
        "execution": {
          "iopub.status.busy": "2024-06-26T13:10:13.203899Z",
          "iopub.execute_input": "2024-06-26T13:10:13.20427Z",
          "iopub.status.idle": "2024-06-26T13:10:13.229536Z",
          "shell.execute_reply.started": "2024-06-26T13:10:13.204242Z",
          "shell.execute_reply": "2024-06-26T13:10:13.228331Z"
        },
        "trusted": true,
        "id": "JjGmHMObsjlr",
        "outputId": "ad85113d-41cb-4d3c-bf7a-46a664abde01"
      },
      "execution_count": null,
      "outputs": [
        {
          "execution_count": 12,
          "output_type": "execute_result",
          "data": {
            "text/plain": "array(['UK', 'UAE', 'Morocco', 'Japan', 'Germany', 'Italy', 'France',\n       'Mexico', 'Pakistan', 'Albania', 'Nigeria', 'Switzerland',\n       'Turkey', 'Netherlands', 'USA', 'India', 'Austria', 'Spain'],\n      dtype=object)"
          },
          "metadata": {}
        }
      ]
    },
    {
      "cell_type": "code",
      "source": [
        "df.describe()"
      ],
      "metadata": {
        "execution": {
          "iopub.status.busy": "2024-06-26T13:11:25.160111Z",
          "iopub.execute_input": "2024-06-26T13:11:25.160569Z",
          "iopub.status.idle": "2024-06-26T13:11:25.213144Z",
          "shell.execute_reply.started": "2024-06-26T13:11:25.160535Z",
          "shell.execute_reply": "2024-06-26T13:11:25.21203Z"
        },
        "trusted": true,
        "id": "rZSzeMZysjlr",
        "outputId": "a103739a-003c-49dd-9b46-7bb4e850b12f"
      },
      "execution_count": null,
      "outputs": [
        {
          "execution_count": 14,
          "output_type": "execute_result",
          "data": {
            "text/plain": "       Sender_account  Receiver_account         Amount  Is_laundering\ncount    2.000000e+05      2.000000e+05  200000.000000  200000.000000\nmean     5.001152e+09      5.001039e+09    8750.761190       0.000975\nstd      2.887164e+09      2.882951e+09   21957.159439       0.031210\nmin      3.209500e+04      1.326600e+04       6.140000       0.000000\n25%      2.498540e+09      2.512679e+09    2150.647500       0.000000\n50%      4.994117e+09      4.996041e+09    6112.375000       0.000000\n75%      7.505735e+09      7.489113e+09   10491.497500       0.000000\nmax      9.999987e+09      9.999958e+09  984679.650000       1.000000",
            "text/html": "<div>\n<style scoped>\n    .dataframe tbody tr th:only-of-type {\n        vertical-align: middle;\n    }\n\n    .dataframe tbody tr th {\n        vertical-align: top;\n    }\n\n    .dataframe thead th {\n        text-align: right;\n    }\n</style>\n<table border=\"1\" class=\"dataframe\">\n  <thead>\n    <tr style=\"text-align: right;\">\n      <th></th>\n      <th>Sender_account</th>\n      <th>Receiver_account</th>\n      <th>Amount</th>\n      <th>Is_laundering</th>\n    </tr>\n  </thead>\n  <tbody>\n    <tr>\n      <th>count</th>\n      <td>2.000000e+05</td>\n      <td>2.000000e+05</td>\n      <td>200000.000000</td>\n      <td>200000.000000</td>\n    </tr>\n    <tr>\n      <th>mean</th>\n      <td>5.001152e+09</td>\n      <td>5.001039e+09</td>\n      <td>8750.761190</td>\n      <td>0.000975</td>\n    </tr>\n    <tr>\n      <th>std</th>\n      <td>2.887164e+09</td>\n      <td>2.882951e+09</td>\n      <td>21957.159439</td>\n      <td>0.031210</td>\n    </tr>\n    <tr>\n      <th>min</th>\n      <td>3.209500e+04</td>\n      <td>1.326600e+04</td>\n      <td>6.140000</td>\n      <td>0.000000</td>\n    </tr>\n    <tr>\n      <th>25%</th>\n      <td>2.498540e+09</td>\n      <td>2.512679e+09</td>\n      <td>2150.647500</td>\n      <td>0.000000</td>\n    </tr>\n    <tr>\n      <th>50%</th>\n      <td>4.994117e+09</td>\n      <td>4.996041e+09</td>\n      <td>6112.375000</td>\n      <td>0.000000</td>\n    </tr>\n    <tr>\n      <th>75%</th>\n      <td>7.505735e+09</td>\n      <td>7.489113e+09</td>\n      <td>10491.497500</td>\n      <td>0.000000</td>\n    </tr>\n    <tr>\n      <th>max</th>\n      <td>9.999987e+09</td>\n      <td>9.999958e+09</td>\n      <td>984679.650000</td>\n      <td>1.000000</td>\n    </tr>\n  </tbody>\n</table>\n</div>"
          },
          "metadata": {}
        }
      ]
    },
    {
      "cell_type": "code",
      "source": [
        "laundering_stats = df[df['Is_laundering'] == 1]['Amount'].agg(['max', 'mean', 'min'])\n",
        "\n",
        "normal_stats = df[df['Is_laundering'] == 0]['Amount'].agg(['max', 'mean', 'min'])\n",
        "\n",
        "print(\"Laundering Transactions Stats:\\n\", laundering_stats)\n",
        "print(\"\\nNormal Transactions Stats:\\n\", normal_stats)"
      ],
      "metadata": {
        "execution": {
          "iopub.status.busy": "2024-06-26T13:11:28.851864Z",
          "iopub.execute_input": "2024-06-26T13:11:28.852272Z",
          "iopub.status.idle": "2024-06-26T13:11:28.916934Z",
          "shell.execute_reply.started": "2024-06-26T13:11:28.85224Z",
          "shell.execute_reply": "2024-06-26T13:11:28.915637Z"
        },
        "trusted": true,
        "id": "f5kqPSAqsjlr",
        "outputId": "993aeaf6-2586-4b3a-a2ba-22269b6ee1e3"
      },
      "execution_count": null,
      "outputs": [
        {
          "name": "stdout",
          "text": "Laundering Transactions Stats:\n max     759709.070000\nmean     17432.592045\nmin         29.070000\nName: Amount, dtype: float64\n\nNormal Transactions Stats:\n max     984679.650000\nmean      8742.288144\nmin          6.140000\nName: Amount, dtype: float64\n",
          "output_type": "stream"
        }
      ]
    },
    {
      "cell_type": "code",
      "source": [
        "class_distribution = df['Is_laundering'].value_counts()\n",
        "\n",
        "plt.figure(figsize=(10, 6))\n",
        "plt.pie(class_distribution, labels=['Non-Laundering Transactions', 'Suspicious Transactions'], autopct='%1.1f%%', colors=['skyblue', 'lightcoral'])\n",
        "\n",
        "plt.title('Class Distribution')\n",
        "plt.axis('equal')\n",
        "\n",
        "plt.show()"
      ],
      "metadata": {
        "execution": {
          "iopub.status.busy": "2024-06-26T13:11:32.72045Z",
          "iopub.execute_input": "2024-06-26T13:11:32.720852Z",
          "iopub.status.idle": "2024-06-26T13:11:32.966004Z",
          "shell.execute_reply.started": "2024-06-26T13:11:32.720823Z",
          "shell.execute_reply": "2024-06-26T13:11:32.964392Z"
        },
        "trusted": true,
        "id": "lnjk7xfQsjls",
        "outputId": "c640655a-0d19-4616-dc00-4a335cb35c67"
      },
      "execution_count": null,
      "outputs": [
        {
          "output_type": "display_data",
          "data": {
            "text/plain": "<Figure size 1000x600 with 1 Axes>",
            "image/png": "[encoded data removed]"
          },
          "metadata": {}
        }
      ]
    },
    {
      "cell_type": "code",
      "source": [
        "#handling imbalance in the dataset\n",
        "#using SMOTE (Synthectic Monitory Over-sampling Technique)\n",
        "from imblearn.over_sampling import SMOTE"
      ],
      "metadata": {
        "execution": {
          "iopub.status.busy": "2024-06-26T13:11:43.882908Z",
          "iopub.execute_input": "2024-06-26T13:11:43.883334Z",
          "iopub.status.idle": "2024-06-26T13:11:44.568909Z",
          "shell.execute_reply.started": "2024-06-26T13:11:43.883284Z",
          "shell.execute_reply": "2024-06-26T13:11:44.567878Z"
        },
        "trusted": true,
        "id": "Les_Lokgsjls"
      },
      "execution_count": null,
      "outputs": []
    },
    {
      "cell_type": "code",
      "source": [
        "# Check the initial class distribution\n",
        "print(\"Initial class distribution:\")\n",
        "print(df['Is_laundering'].value_counts(normalize=True))"
      ],
      "metadata": {
        "execution": {
          "iopub.status.busy": "2024-06-26T13:11:50.017195Z",
          "iopub.execute_input": "2024-06-26T13:11:50.017875Z",
          "iopub.status.idle": "2024-06-26T13:11:50.028298Z",
          "shell.execute_reply.started": "2024-06-26T13:11:50.017837Z",
          "shell.execute_reply": "2024-06-26T13:11:50.026762Z"
        },
        "trusted": true,
        "id": "djUGp8cZsjls",
        "outputId": "e2262e3b-586a-47f7-bb69-a2a991ac8b0a"
      },
      "execution_count": null,
      "outputs": [
        {
          "name": "stdout",
          "text": "Initial class distribution:\nIs_laundering\n0    0.999025\n1    0.000975\nName: proportion, dtype: float64\n",
          "output_type": "stream"
        }
      ]
    },
    {
      "cell_type": "code",
      "source": [
        "# Separate the features and the target\n",
        "X = df.drop(columns=['Is_laundering'])\n",
        "y = df['Is_laundering'] #target"
      ],
      "metadata": {
        "execution": {
          "iopub.status.busy": "2024-06-26T13:11:56.540755Z",
          "iopub.execute_input": "2024-06-26T13:11:56.541144Z",
          "iopub.status.idle": "2024-06-26T13:11:56.574056Z",
          "shell.execute_reply.started": "2024-06-26T13:11:56.541116Z",
          "shell.execute_reply": "2024-06-26T13:11:56.572867Z"
        },
        "trusted": true,
        "id": "FLCX4ABusjlt"
      },
      "execution_count": null,
      "outputs": []
    },
    {
      "cell_type": "code",
      "source": [
        "# Convert time and date columns to datetime objects\n",
        "X['Time'] = pd.to_datetime(X['Time'], format='%H:%M:%S')\n",
        "X['Date'] = pd.to_datetime(X['Date'], format='%Y-%m-%d')"
      ],
      "metadata": {
        "execution": {
          "iopub.status.busy": "2024-06-26T13:12:14.62337Z",
          "iopub.execute_input": "2024-06-26T13:12:14.623773Z",
          "iopub.status.idle": "2024-06-26T13:12:15.617638Z",
          "shell.execute_reply.started": "2024-06-26T13:12:14.623744Z",
          "shell.execute_reply": "2024-06-26T13:12:15.616596Z"
        },
        "trusted": true,
        "id": "sUjTYgOhsjlt"
      },
      "execution_count": null,
      "outputs": []
    },
    {
      "cell_type": "code",
      "source": [
        "# Extract features from date if needed, here extracting year, month, day\n",
        "X['Year'] = X['Date'].dt.year\n",
        "X['Month'] = X['Date'].dt.month\n",
        "X['Day'] = X['Date'].dt.day"
      ],
      "metadata": {
        "execution": {
          "iopub.status.busy": "2024-06-26T13:13:28.507447Z",
          "iopub.execute_input": "2024-06-26T13:13:28.507844Z",
          "iopub.status.idle": "2024-06-26T13:13:28.54602Z",
          "shell.execute_reply.started": "2024-06-26T13:13:28.507815Z",
          "shell.execute_reply": "2024-06-26T13:13:28.544872Z"
        },
        "trusted": true,
        "id": "28nLdyGIsjlt"
      },
      "execution_count": null,
      "outputs": []
    },
    {
      "cell_type": "code",
      "source": [
        "# Extract features from date if needed, here extracting year, month, day\n",
        "X['Hour'] = X['Time'].dt.hour\n",
        "X['Minute'] = X['Time'].dt.minute\n",
        "X['Second'] = X['Time'].dt.second"
      ],
      "metadata": {
        "execution": {
          "iopub.status.busy": "2024-06-26T13:13:24.665009Z",
          "iopub.execute_input": "2024-06-26T13:13:24.665438Z",
          "iopub.status.idle": "2024-06-26T13:13:24.692024Z",
          "shell.execute_reply.started": "2024-06-26T13:13:24.665408Z",
          "shell.execute_reply": "2024-06-26T13:13:24.691037Z"
        },
        "trusted": true,
        "id": "SbvryCITsjlt"
      },
      "execution_count": null,
      "outputs": []
    },
    {
      "cell_type": "code",
      "source": [
        "# Drop the original Date and Time columns\n",
        "X = X.drop(columns=['Date', 'Time'])"
      ],
      "metadata": {
        "execution": {
          "iopub.status.busy": "2024-06-26T13:13:33.078139Z",
          "iopub.execute_input": "2024-06-26T13:13:33.07915Z",
          "iopub.status.idle": "2024-06-26T13:13:33.127676Z",
          "shell.execute_reply.started": "2024-06-26T13:13:33.079114Z",
          "shell.execute_reply": "2024-06-26T13:13:33.12639Z"
        },
        "trusted": true,
        "id": "7O4gdZE3sjlt"
      },
      "execution_count": null,
      "outputs": []
    },
    {
      "cell_type": "code",
      "source": [
        "#one hot encoding some columns\n",
        "from sklearn.preprocessing import OneHotEncoder"
      ],
      "metadata": {
        "execution": {
          "iopub.status.busy": "2024-06-26T13:13:59.46616Z",
          "iopub.execute_input": "2024-06-26T13:13:59.466618Z",
          "iopub.status.idle": "2024-06-26T13:13:59.471929Z",
          "shell.execute_reply.started": "2024-06-26T13:13:59.466579Z",
          "shell.execute_reply": "2024-06-26T13:13:59.470656Z"
        },
        "trusted": true,
        "id": "jC3L6V38sjlu"
      },
      "execution_count": null,
      "outputs": []
    },
    {
      "cell_type": "code",
      "source": [
        "# Identify categorical columns for one-hot encoding\n",
        "categorical_columns = [\n",
        "    'Payment_currency',\n",
        "    'Received_currency',\n",
        "    'Sender_bank_location',\n",
        "    'Receiver_bank_location',\n",
        "    'Payment_type',\n",
        "    'Laundering_type'\n",
        "]\n",
        "# One-hot encode categorical variables\n",
        "X = pd.get_dummies(X, columns=categorical_columns)"
      ],
      "metadata": {
        "execution": {
          "iopub.status.busy": "2024-06-26T13:14:04.508001Z",
          "iopub.execute_input": "2024-06-26T13:14:04.508433Z",
          "iopub.status.idle": "2024-06-26T13:14:04.727433Z",
          "shell.execute_reply.started": "2024-06-26T13:14:04.508403Z",
          "shell.execute_reply": "2024-06-26T13:14:04.726379Z"
        },
        "trusted": true,
        "id": "YSV-hHkrsjlu"
      },
      "execution_count": null,
      "outputs": []
    },
    {
      "cell_type": "code",
      "source": [
        "# Define the SMOTE model with the desired sampling strategy\n",
        "#Is_landuring should have around 30% 1's\n",
        "smote = SMOTE(sampling_strategy=0.3, random_state=42)\n"
      ],
      "metadata": {
        "execution": {
          "iopub.status.busy": "2024-06-26T13:14:09.226756Z",
          "iopub.execute_input": "2024-06-26T13:14:09.227158Z",
          "iopub.status.idle": "2024-06-26T13:14:09.232842Z",
          "shell.execute_reply.started": "2024-06-26T13:14:09.227128Z",
          "shell.execute_reply": "2024-06-26T13:14:09.231626Z"
        },
        "trusted": true,
        "id": "pI9lZXhIsjlu"
      },
      "execution_count": null,
      "outputs": []
    },
    {
      "cell_type": "code",
      "source": [
        "# Apply SMOTE to the dataset\n",
        "X_resampled, y_resampled = smote.fit_resample(X, y)"
      ],
      "metadata": {
        "execution": {
          "iopub.status.busy": "2024-06-26T13:14:14.06302Z",
          "iopub.execute_input": "2024-06-26T13:14:14.063441Z",
          "iopub.status.idle": "2024-06-26T13:14:14.868852Z",
          "shell.execute_reply.started": "2024-06-26T13:14:14.063411Z",
          "shell.execute_reply": "2024-06-26T13:14:14.867701Z"
        },
        "trusted": true,
        "id": "6uzLCQY9sjlv"
      },
      "execution_count": null,
      "outputs": []
    },
    {
      "cell_type": "code",
      "source": [
        "data = pd.DataFrame(X_resampled, columns=X.columns)\n",
        "data['Is_laundering'] = y_resampled\n"
      ],
      "metadata": {
        "execution": {
          "iopub.status.busy": "2024-06-26T13:14:40.138771Z",
          "iopub.execute_input": "2024-06-26T13:14:40.139185Z",
          "iopub.status.idle": "2024-06-26T13:14:40.149289Z",
          "shell.execute_reply.started": "2024-06-26T13:14:40.139153Z",
          "shell.execute_reply": "2024-06-26T13:14:40.147938Z"
        },
        "trusted": true,
        "id": "UHrp9v5Msjlv",
        "outputId": "4cbbbf35-165e-4665-c9c2-cf5e19bc5edf"
      },
      "execution_count": null,
      "outputs": [
        {
          "name": "stderr",
          "text": "/tmp/ipykernel_33/2233099442.py:2: PerformanceWarning: DataFrame is highly fragmented.  This is usually the result of calling `frame.insert` many times, which has poor performance.  Consider joining all columns at once using pd.concat(axis=1) instead. To get a de-fragmented frame, use `newframe = frame.copy()`\n  data['Is_laundering'] = y_resampled\n",
          "output_type": "stream"
        }
      ]
    },
    {
      "cell_type": "code",
      "source": [
        "# Check the new class distribution\n",
        "print(\"New class distribution:\")\n",
        "print(data['Is_laundering'].value_counts(normalize=True))"
      ],
      "metadata": {
        "execution": {
          "iopub.status.busy": "2024-06-26T13:14:47.627869Z",
          "iopub.execute_input": "2024-06-26T13:14:47.628286Z",
          "iopub.status.idle": "2024-06-26T13:14:47.639095Z",
          "shell.execute_reply.started": "2024-06-26T13:14:47.628247Z",
          "shell.execute_reply": "2024-06-26T13:14:47.63778Z"
        },
        "trusted": true,
        "id": "y4C--jTysjlv",
        "outputId": "1ed18400-02a9-4fe5-faf7-365ed1b0160c"
      },
      "execution_count": null,
      "outputs": [
        {
          "name": "stdout",
          "text": "New class distribution:\nIs_laundering\n0    0.769232\n1    0.230768\nName: proportion, dtype: float64\n",
          "output_type": "stream"
        }
      ]
    },
    {
      "cell_type": "code",
      "source": [
        "class_distribution = data['Is_laundering'].value_counts()\n",
        "\n",
        "plt.figure(figsize=(10, 6))\n",
        "plt.pie(class_distribution, labels=['Non-Laundering Transactions', 'Suspicious Transactions'], autopct='%1.1f%%', colors=['skyblue', 'lightcoral'])\n",
        "\n",
        "plt.title('Class Distribution')\n",
        "plt.axis('equal')\n",
        "\n",
        "plt.show()"
      ],
      "metadata": {
        "execution": {
          "iopub.status.busy": "2024-06-26T13:14:55.239669Z",
          "iopub.execute_input": "2024-06-26T13:14:55.240212Z",
          "iopub.status.idle": "2024-06-26T13:14:55.456846Z",
          "shell.execute_reply.started": "2024-06-26T13:14:55.240168Z",
          "shell.execute_reply": "2024-06-26T13:14:55.453489Z"
        },
        "trusted": true,
        "id": "g-CQ4JPosjlv",
        "outputId": "85a9e95c-a001-450e-ffd5-29f129834cdb"
      },
      "execution_count": null,
      "outputs": [
        {
          "output_type": "display_data",
          "data": {
            "text/plain": "<Figure size 1000x600 with 1 Axes>",
            "image/png": "[encoded data removed]"
          },
          "metadata": {}
        }
      ]
    },
    {
      "cell_type": "code",
      "source": [
        "# Data types\n",
        "print(\"\\nData types:\")\n",
        "print(data.dtypes)"
      ],
      "metadata": {
        "execution": {
          "iopub.status.busy": "2024-06-26T13:15:11.630114Z",
          "iopub.execute_input": "2024-06-26T13:15:11.630701Z",
          "iopub.status.idle": "2024-06-26T13:15:11.638687Z",
          "shell.execute_reply.started": "2024-06-26T13:15:11.630663Z",
          "shell.execute_reply": "2024-06-26T13:15:11.63738Z"
        },
        "trusted": true,
        "id": "kTOwxyR4sjlw",
        "outputId": "2dde95bd-9672-4a0a-86e2-57ae30dd8fa2"
      },
      "execution_count": null,
      "outputs": [
        {
          "name": "stdout",
          "text": "\nData types:\nSender_account                         int64\nReceiver_account                       int64\nAmount                               float64\nYear                                   int32\nMonth                                  int32\n                                      ...   \nLaundering_type_Single_large            bool\nLaundering_type_Smurfing                bool\nLaundering_type_Stacked Bipartite       bool\nLaundering_type_Structuring             bool\nIs_laundering                          int64\nLength: 106, dtype: object\n",
          "output_type": "stream"
        }
      ]
    },
    {
      "cell_type": "code",
      "source": [
        "data.head()"
      ],
      "metadata": {
        "execution": {
          "iopub.status.busy": "2024-06-26T13:15:16.591774Z",
          "iopub.execute_input": "2024-06-26T13:15:16.592194Z",
          "iopub.status.idle": "2024-06-26T13:15:16.622202Z",
          "shell.execute_reply.started": "2024-06-26T13:15:16.592162Z",
          "shell.execute_reply": "2024-06-26T13:15:16.621067Z"
        },
        "trusted": true,
        "id": "jCTSewtasjlw",
        "outputId": "6347708b-e1eb-45ff-d524-4d600ddb0628"
      },
      "execution_count": null,
      "outputs": [
        {
          "execution_count": 34,
          "output_type": "execute_result",
          "data": {
            "text/plain": "   Sender_account  Receiver_account    Amount  Year  Month  Day  Hour  Minute  \\\n0      4248061080        9527052910  13480.74  2023      8   14     2       8   \n1      9130896737         908371799  10480.05  2023      7    2    19      48   \n2      1466348255        8545558838  26232.35  2023      7   22    12       4   \n3      2181923623        6234034932    447.07  2022     10   28    17       8   \n4      8596132461        3638213339   1005.62  2023      2   21    22      44   \n\n   Second  Payment_currency_Albanian lek  ...  \\\n0      46                          False  ...   \n1      23                          False  ...   \n2      24                          False  ...   \n3       2                          False  ...   \n4      17                          False  ...   \n\n   Laundering_type_Normal_Periodical  Laundering_type_Normal_Plus_Mutual  \\\n0                              False                                True   \n1                              False                               False   \n2                              False                               False   \n3                              False                               False   \n4                              False                               False   \n\n   Laundering_type_Normal_Small_Fan_Out  Laundering_type_Normal_single_large  \\\n0                                 False                                False   \n1                                 False                                False   \n2                                 False                                False   \n3                                  True                                False   \n4                                  True                                False   \n\n   Laundering_type_Scatter-Gather  Laundering_type_Single_large  \\\n0                           False                         False   \n1                           False                         False   \n2                           False                         False   \n3                           False                         False   \n4                           False                         False   \n\n   Laundering_type_Smurfing  Laundering_type_Stacked Bipartite  \\\n0                     False                              False   \n1                     False                              False   \n2                     False                              False   \n3                     False                              False   \n4                     False                              False   \n\n   Laundering_type_Structuring  Is_laundering  \n0                        False              0  \n1                        False              0  \n2                        False              0  \n3                        False              0  \n4                        False              0  \n\n[5 rows x 106 columns]",
            "text/html": "<div>\n<style scoped>\n    .dataframe tbody tr th:only-of-type {\n        vertical-align: middle;\n    }\n\n    .dataframe tbody tr th {\n        vertical-align: top;\n    }\n\n    .dataframe thead th {\n        text-align: right;\n    }\n</style>\n<table border=\"1\" class=\"dataframe\">\n  <thead>\n    <tr style=\"text-align: right;\">\n      <th></th>\n      <th>Sender_account</th>\n      <th>Receiver_account</th>\n      <th>Amount</th>\n      <th>Year</th>\n      <th>Month</th>\n      <th>Day</th>\n      <th>Hour</th>\n      <th>Minute</th>\n      <th>Second</th>\n      <th>Payment_currency_Albanian lek</th>\n      <th>...</th>\n      <th>Laundering_type_Normal_Periodical</th>\n      <th>Laundering_type_Normal_Plus_Mutual</th>\n      <th>Laundering_type_Normal_Small_Fan_Out</th>\n      <th>Laundering_type_Normal_single_large</th>\n      <th>Laundering_type_Scatter-Gather</th>\n      <th>Laundering_type_Single_large</th>\n      <th>Laundering_type_Smurfing</th>\n      <th>Laundering_type_Stacked Bipartite</th>\n      <th>Laundering_type_Structuring</th>\n      <th>Is_laundering</th>\n    </tr>\n  </thead>\n  <tbody>\n    <tr>\n      <th>0</th>\n      <td>4248061080</td>\n      <td>9527052910</td>\n      <td>13480.74</td>\n      <td>2023</td>\n      <td>8</td>\n      <td>14</td>\n      <td>2</td>\n      <td>8</td>\n      <td>46</td>\n      <td>False</td>\n      <td>...</td>\n      <td>False</td>\n      <td>True</td>\n      <td>False</td>\n      <td>False</td>\n      <td>False</td>\n      <td>False</td>\n      <td>False</td>\n      <td>False</td>\n      <td>False</td>\n      <td>0</td>\n    </tr>\n    <tr>\n      <th>1</th>\n      <td>9130896737</td>\n      <td>908371799</td>\n      <td>10480.05</td>\n      <td>2023</td>\n      <td>7</td>\n      <td>2</td>\n      <td>19</td>\n      <td>48</td>\n      <td>23</td>\n      <td>False</td>\n      <td>...</td>\n      <td>False</td>\n      <td>False</td>\n      <td>False</td>\n      <td>False</td>\n      <td>False</td>\n      <td>False</td>\n      <td>False</td>\n      <td>False</td>\n      <td>False</td>\n      <td>0</td>\n    </tr>\n    <tr>\n      <th>2</th>\n      <td>1466348255</td>\n      <td>8545558838</td>\n      <td>26232.35</td>\n      <td>2023</td>\n      <td>7</td>\n      <td>22</td>\n      <td>12</td>\n      <td>4</td>\n      <td>24</td>\n      <td>False</td>\n      <td>...</td>\n      <td>False</td>\n      <td>False</td>\n      <td>False</td>\n      <td>False</td>\n      <td>False</td>\n      <td>False</td>\n      <td>False</td>\n      <td>False</td>\n      <td>False</td>\n      <td>0</td>\n    </tr>\n    <tr>\n      <th>3</th>\n      <td>2181923623</td>\n      <td>6234034932</td>\n      <td>447.07</td>\n      <td>2022</td>\n      <td>10</td>\n      <td>28</td>\n      <td>17</td>\n      <td>8</td>\n      <td>2</td>\n      <td>False</td>\n      <td>...</td>\n      <td>False</td>\n      <td>False</td>\n      <td>True</td>\n      <td>False</td>\n      <td>False</td>\n      <td>False</td>\n      <td>False</td>\n      <td>False</td>\n      <td>False</td>\n      <td>0</td>\n    </tr>\n    <tr>\n      <th>4</th>\n      <td>8596132461</td>\n      <td>3638213339</td>\n      <td>1005.62</td>\n      <td>2023</td>\n      <td>2</td>\n      <td>21</td>\n      <td>22</td>\n      <td>44</td>\n      <td>17</td>\n      <td>False</td>\n      <td>...</td>\n      <td>False</td>\n      <td>False</td>\n      <td>True</td>\n      <td>False</td>\n      <td>False</td>\n      <td>False</td>\n      <td>False</td>\n      <td>False</td>\n      <td>False</td>\n      <td>0</td>\n    </tr>\n  </tbody>\n</table>\n<p>5 rows × 106 columns</p>\n</div>"
          },
          "metadata": {}
        }
      ]
    },
    {
      "cell_type": "code",
      "source": [
        "data.columns[59]"
      ],
      "metadata": {
        "execution": {
          "iopub.status.busy": "2024-06-26T13:16:17.056786Z",
          "iopub.execute_input": "2024-06-26T13:16:17.057252Z",
          "iopub.status.idle": "2024-06-26T13:16:17.065668Z",
          "shell.execute_reply.started": "2024-06-26T13:16:17.057201Z",
          "shell.execute_reply": "2024-06-26T13:16:17.064288Z"
        },
        "trusted": true,
        "id": "hjFFeEOGsjlw",
        "outputId": "8227ba57-caf1-49c8-fe3b-49bd049921d4"
      },
      "execution_count": null,
      "outputs": [
        {
          "execution_count": 35,
          "output_type": "execute_result",
          "data": {
            "text/plain": "'Receiver_bank_location_Japan'"
          },
          "metadata": {}
        }
      ]
    },
    {
      "cell_type": "code",
      "source": [
        "#creating high_risk_countries column\n",
        "# List of high-risk countries\n",
        "high_risk_countries = {\"Nigeria\", \"Morocco\", \"Turkey\", \"Pakistan\", \"Mexico\", \"Spain\"}\n",
        "# Identify one-hot encoded columns for high-risk countries\n",
        "sender_columns = [f\"Sender_bank_location_{country}\" for country in high_risk_countries]\n",
        "receiver_columns = [f\"Receiver_bank_location_{country}\" for country in high_risk_countries]"
      ],
      "metadata": {
        "execution": {
          "iopub.status.busy": "2024-06-26T13:16:21.787634Z",
          "iopub.execute_input": "2024-06-26T13:16:21.788019Z",
          "iopub.status.idle": "2024-06-26T13:16:21.794262Z",
          "shell.execute_reply.started": "2024-06-26T13:16:21.787985Z",
          "shell.execute_reply": "2024-06-26T13:16:21.792961Z"
        },
        "trusted": true,
        "id": "tiXWF6vqsjlx"
      },
      "execution_count": null,
      "outputs": []
    },
    {
      "cell_type": "code",
      "source": [
        "# Check if any of the sender or receiver columns indicate a high-risk country\n",
        "data['high_risk_countries'] = data[sender_columns + receiver_columns].sum(axis=1).apply(lambda x: 1 if x > 0 else 0)\n"
      ],
      "metadata": {
        "execution": {
          "iopub.status.busy": "2024-06-26T13:16:26.569935Z",
          "iopub.execute_input": "2024-06-26T13:16:26.570358Z",
          "iopub.status.idle": "2024-06-26T13:16:26.860427Z",
          "shell.execute_reply.started": "2024-06-26T13:16:26.570324Z",
          "shell.execute_reply": "2024-06-26T13:16:26.859319Z"
        },
        "trusted": true,
        "id": "Fcud9z8Isjlx",
        "outputId": "75e52417-eff5-4851-b13e-234c739ea976"
      },
      "execution_count": null,
      "outputs": [
        {
          "name": "stderr",
          "text": "/tmp/ipykernel_33/998888715.py:2: PerformanceWarning: DataFrame is highly fragmented.  This is usually the result of calling `frame.insert` many times, which has poor performance.  Consider joining all columns at once using pd.concat(axis=1) instead. To get a de-fragmented frame, use `newframe = frame.copy()`\n  data['high_risk_countries'] = data[sender_columns + receiver_columns].sum(axis=1).apply(lambda x: 1 if x > 0 else 0)\n",
          "output_type": "stream"
        }
      ]
    },
    {
      "cell_type": "code",
      "source": [
        "data.head()"
      ],
      "metadata": {
        "execution": {
          "iopub.status.busy": "2024-06-26T13:16:32.022259Z",
          "iopub.execute_input": "2024-06-26T13:16:32.023389Z",
          "iopub.status.idle": "2024-06-26T13:16:32.053367Z",
          "shell.execute_reply.started": "2024-06-26T13:16:32.023338Z",
          "shell.execute_reply": "2024-06-26T13:16:32.051829Z"
        },
        "trusted": true,
        "id": "F21gHrxmsjlx",
        "outputId": "e7eeb929-f0f9-4306-a88c-8fcd746d2497"
      },
      "execution_count": null,
      "outputs": [
        {
          "execution_count": 38,
          "output_type": "execute_result",
          "data": {
            "text/plain": "   Sender_account  Receiver_account    Amount  Year  Month  Day  Hour  Minute  \\\n0      4248061080        9527052910  13480.74  2023      8   14     2       8   \n1      9130896737         908371799  10480.05  2023      7    2    19      48   \n2      1466348255        8545558838  26232.35  2023      7   22    12       4   \n3      2181923623        6234034932    447.07  2022     10   28    17       8   \n4      8596132461        3638213339   1005.62  2023      2   21    22      44   \n\n   Second  Payment_currency_Albanian lek  ...  \\\n0      46                          False  ...   \n1      23                          False  ...   \n2      24                          False  ...   \n3       2                          False  ...   \n4      17                          False  ...   \n\n   Laundering_type_Normal_Plus_Mutual  Laundering_type_Normal_Small_Fan_Out  \\\n0                                True                                 False   \n1                               False                                 False   \n2                               False                                 False   \n3                               False                                  True   \n4                               False                                  True   \n\n   Laundering_type_Normal_single_large  Laundering_type_Scatter-Gather  \\\n0                                False                           False   \n1                                False                           False   \n2                                False                           False   \n3                                False                           False   \n4                                False                           False   \n\n   Laundering_type_Single_large  Laundering_type_Smurfing  \\\n0                         False                     False   \n1                         False                     False   \n2                         False                     False   \n3                         False                     False   \n4                         False                     False   \n\n   Laundering_type_Stacked Bipartite  Laundering_type_Structuring  \\\n0                              False                        False   \n1                              False                        False   \n2                              False                        False   \n3                              False                        False   \n4                              False                        False   \n\n   Is_laundering  high_risk_countries  \n0              0                    0  \n1              0                    0  \n2              0                    0  \n3              0                    0  \n4              0                    0  \n\n[5 rows x 107 columns]",
            "text/html": "<div>\n<style scoped>\n    .dataframe tbody tr th:only-of-type {\n        vertical-align: middle;\n    }\n\n    .dataframe tbody tr th {\n        vertical-align: top;\n    }\n\n    .dataframe thead th {\n        text-align: right;\n    }\n</style>\n<table border=\"1\" class=\"dataframe\">\n  <thead>\n    <tr style=\"text-align: right;\">\n      <th></th>\n      <th>Sender_account</th>\n      <th>Receiver_account</th>\n      <th>Amount</th>\n      <th>Year</th>\n      <th>Month</th>\n      <th>Day</th>\n      <th>Hour</th>\n      <th>Minute</th>\n      <th>Second</th>\n      <th>Payment_currency_Albanian lek</th>\n      <th>...</th>\n      <th>Laundering_type_Normal_Plus_Mutual</th>\n      <th>Laundering_type_Normal_Small_Fan_Out</th>\n      <th>Laundering_type_Normal_single_large</th>\n      <th>Laundering_type_Scatter-Gather</th>\n      <th>Laundering_type_Single_large</th>\n      <th>Laundering_type_Smurfing</th>\n      <th>Laundering_type_Stacked Bipartite</th>\n      <th>Laundering_type_Structuring</th>\n      <th>Is_laundering</th>\n      <th>high_risk_countries</th>\n    </tr>\n  </thead>\n  <tbody>\n    <tr>\n      <th>0</th>\n      <td>4248061080</td>\n      <td>9527052910</td>\n      <td>13480.74</td>\n      <td>2023</td>\n      <td>8</td>\n      <td>14</td>\n      <td>2</td>\n      <td>8</td>\n      <td>46</td>\n      <td>False</td>\n      <td>...</td>\n      <td>True</td>\n      <td>False</td>\n      <td>False</td>\n      <td>False</td>\n      <td>False</td>\n      <td>False</td>\n      <td>False</td>\n      <td>False</td>\n      <td>0</td>\n      <td>0</td>\n    </tr>\n    <tr>\n      <th>1</th>\n      <td>9130896737</td>\n      <td>908371799</td>\n      <td>10480.05</td>\n      <td>2023</td>\n      <td>7</td>\n      <td>2</td>\n      <td>19</td>\n      <td>48</td>\n      <td>23</td>\n      <td>False</td>\n      <td>...</td>\n      <td>False</td>\n      <td>False</td>\n      <td>False</td>\n      <td>False</td>\n      <td>False</td>\n      <td>False</td>\n      <td>False</td>\n      <td>False</td>\n      <td>0</td>\n      <td>0</td>\n    </tr>\n    <tr>\n      <th>2</th>\n      <td>1466348255</td>\n      <td>8545558838</td>\n      <td>26232.35</td>\n      <td>2023</td>\n      <td>7</td>\n      <td>22</td>\n      <td>12</td>\n      <td>4</td>\n      <td>24</td>\n      <td>False</td>\n      <td>...</td>\n      <td>False</td>\n      <td>False</td>\n      <td>False</td>\n      <td>False</td>\n      <td>False</td>\n      <td>False</td>\n      <td>False</td>\n      <td>False</td>\n      <td>0</td>\n      <td>0</td>\n    </tr>\n    <tr>\n      <th>3</th>\n      <td>2181923623</td>\n      <td>6234034932</td>\n      <td>447.07</td>\n      <td>2022</td>\n      <td>10</td>\n      <td>28</td>\n      <td>17</td>\n      <td>8</td>\n      <td>2</td>\n      <td>False</td>\n      <td>...</td>\n      <td>False</td>\n      <td>True</td>\n      <td>False</td>\n      <td>False</td>\n      <td>False</td>\n      <td>False</td>\n      <td>False</td>\n      <td>False</td>\n      <td>0</td>\n      <td>0</td>\n    </tr>\n    <tr>\n      <th>4</th>\n      <td>8596132461</td>\n      <td>3638213339</td>\n      <td>1005.62</td>\n      <td>2023</td>\n      <td>2</td>\n      <td>21</td>\n      <td>22</td>\n      <td>44</td>\n      <td>17</td>\n      <td>False</td>\n      <td>...</td>\n      <td>False</td>\n      <td>True</td>\n      <td>False</td>\n      <td>False</td>\n      <td>False</td>\n      <td>False</td>\n      <td>False</td>\n      <td>False</td>\n      <td>0</td>\n      <td>0</td>\n    </tr>\n  </tbody>\n</table>\n<p>5 rows × 107 columns</p>\n</div>"
          },
          "metadata": {}
        }
      ]
    },
    {
      "cell_type": "code",
      "source": [
        "counts = data['high_risk_countries'].value_counts()\n",
        "\n",
        "# Plotting the counts\n",
        "counts.plot(kind='bar', color=['blue', 'orange'])\n",
        "plt.xlabel('High Risk Countries (1)')\n",
        "plt.ylabel('Count')\n",
        "plt.title('Comparison of Transactions ')\n",
        "plt.xticks([0, 1], ['0', '1'], rotation=0)\n",
        "plt.show()"
      ],
      "metadata": {
        "execution": {
          "iopub.status.busy": "2024-06-26T13:16:35.524364Z",
          "iopub.execute_input": "2024-06-26T13:16:35.524788Z",
          "iopub.status.idle": "2024-06-26T13:16:35.829988Z",
          "shell.execute_reply.started": "2024-06-26T13:16:35.524756Z",
          "shell.execute_reply": "2024-06-26T13:16:35.82864Z"
        },
        "trusted": true,
        "id": "JISEuVmOsjly",
        "outputId": "b1fdb536-b83d-48a2-df8d-58b0cc1280c3"
      },
      "execution_count": null,
      "outputs": [
        {
          "output_type": "display_data",
          "data": {
            "text/plain": "<Figure size 640x480 with 1 Axes>",
            "image/png": "[encoded data removed]"
          },
          "metadata": {}
        }
      ]
    }
  ]
}
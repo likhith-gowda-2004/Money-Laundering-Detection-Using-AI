{
  "nbformat": 4,
  "nbformat_minor": 0,
  "metadata": {
    "colab": {
      "provenance": [],
      "gpuType": "T4"
    },
    "kernelspec": {
      "name": "python3",
      "display_name": "Python 3"
    },
    "language_info": {
      "name": "python"
    },
    "accelerator": "GPU"
  },
  "cells": [
    {
      "cell_type": "markdown",
      "source": [
        "This is for the autoencoder model.In this model we are using the autoencoder model to reduce the dimensions of the data.And then this is used to convert back to the original input."
      ],
      "metadata": {
        "id": "DJ0J99XHZMNq"
      }
    },
    {
      "cell_type": "code",
      "source": [
        "import pandas as pd\n",
        "import numpy as np\n",
        "import tensorflow as tf\n",
        "from tensorflow.keras.models import Model\n",
        "from tensorflow.keras.layers import Input, Dense\n",
        "from sklearn.preprocessing import MinMaxScaler\n",
        "from sklearn.decomposition import PCA\n",
        "import matplotlib.pyplot as plt\n",
        "from mpl_toolkits.mplot3d import Axes3D\n",
        "from sklearn.model_selection import train_test_split\n",
        "from sklearn.preprocessing import LabelEncoder\n",
        "from tensorflow.keras.optimizers import Adam"
      ],
      "metadata": {
        "id": "6A0zfKrV8N3D"
      },
      "execution_count": 21,
      "outputs": []
    },
    {
      "cell_type": "code",
      "source": [
        "df = pd.read_csv('SAML-D_cleaned_final.csv')"
      ],
      "metadata": {
        "colab": {
          "base_uri": "https://localhost:8080/"
        },
        "id": "Q6L9W0A28S9m",
        "outputId": "b0285a34-3ab2-4048-f1f3-8958e4018914"
      },
      "execution_count": 22,
      "outputs": [
        {
          "output_type": "stream",
          "name": "stderr",
          "text": [
            "<ipython-input-22-434d0fa35970>:1: DtypeWarning: Columns (47,48,49,50,51,52,53,54,55,56,57,58,59,60,61,62,63,64,65,66,67,68,69,70,71,72,73,74,75,76,77,78,79,80,81,82,83,84,85,86,87,88,89,90,91,92,93,94,95,96,97,98,99,100,101,102,103,104,105) have mixed types. Specify dtype option on import or set low_memory=False.\n",
            "  df = pd.read_csv('SAML-D_cleaned_final.csv')\n"
          ]
        }
      ]
    },
    {
      "cell_type": "markdown",
      "source": [
        "For the model use drop unnamed and risk score features from the data."
      ],
      "metadata": {
        "id": "9swuwtQKZSAy"
      }
    },
    {
      "cell_type": "code",
      "source": [
        "df=df.drop(columns=['Unnamed: 0','risk_score'])"
      ],
      "metadata": {
        "id": "sUv5K5lD9JUm"
      },
      "execution_count": 23,
      "outputs": []
    },
    {
      "cell_type": "code",
      "source": [
        "# Identify boolean columns and convert them to integers\n",
        "bool_columns = df.select_dtypes(include=['bool', 'object']).columns\n",
        "\n",
        "for col in bool_columns:\n",
        "    # Convert boolean-like object columns to actual boolean type first\n",
        "    if df[col].dtype == 'object':\n",
        "        df[col] = df[col].map({'True': True, 'False': False, 'true': True, 'false': False})\n",
        "\n",
        "    # Replace NaN values with a default value (e.g., False or 0)\n",
        "    df[col].fillna(False, inplace=True)\n",
        "\n",
        "    # Convert boolean columns to integers\n",
        "    df[col] = df[col].astype(int)"
      ],
      "metadata": {
        "id": "6XdIJ9jG8Dbg"
      },
      "execution_count": 24,
      "outputs": []
    },
    {
      "cell_type": "code",
      "source": [
        "df.head()"
      ],
      "metadata": {
        "colab": {
          "base_uri": "https://localhost:8080/",
          "height": 273
        },
        "id": "WZSKTT4kxO2V",
        "outputId": "77b04d38-85a7-4315-d04a-a047553b8c10"
      },
      "execution_count": 25,
      "outputs": [
        {
          "output_type": "execute_result",
          "data": {
            "text/plain": [
              "   Sender_account  Receiver_account    Amount  Year  Month  Day  Hour  Minute  \\\n",
              "0      4248061080        9527052910  13480.74  2023      8   14     2       8   \n",
              "1      9130896737         908371799  10480.05  2023      7    2    19      48   \n",
              "2      1466348255        8545558838  26232.35  2023      7   22    12       4   \n",
              "3      2181923623        6234034932    447.07  2022     10   28    17       8   \n",
              "4      8596132461        3638213339   1005.62  2023      2   21    22      44   \n",
              "\n",
              "   Second  Payment_currency_Albanian lek  ...  \\\n",
              "0      46                              0  ...   \n",
              "1      23                              0  ...   \n",
              "2      24                              0  ...   \n",
              "3       2                              0  ...   \n",
              "4      17                              0  ...   \n",
              "\n",
              "   Laundering_type_Normal_Plus_Mutual  Laundering_type_Normal_Small_Fan_Out  \\\n",
              "0                                   0                                     0   \n",
              "1                                   0                                     0   \n",
              "2                                   0                                     0   \n",
              "3                                   0                                     0   \n",
              "4                                   0                                     0   \n",
              "\n",
              "   Laundering_type_Normal_single_large  Laundering_type_Scatter-Gather  \\\n",
              "0                                    0                               0   \n",
              "1                                    0                               0   \n",
              "2                                    0                               0   \n",
              "3                                    0                               0   \n",
              "4                                    0                               0   \n",
              "\n",
              "   Laundering_type_Single_large  Laundering_type_Smurfing  \\\n",
              "0                             0                         0   \n",
              "1                             0                         0   \n",
              "2                             0                         0   \n",
              "3                             0                         0   \n",
              "4                             0                         0   \n",
              "\n",
              "   Laundering_type_Stacked Bipartite  Laundering_type_Structuring  \\\n",
              "0                                  0                            0   \n",
              "1                                  0                            0   \n",
              "2                                  0                            0   \n",
              "3                                  0                            0   \n",
              "4                                  0                            0   \n",
              "\n",
              "   Is_Laundering  high_risk_countries  \n",
              "0            0.0                  0.0  \n",
              "1            0.0                  0.0  \n",
              "2            0.0                  0.0  \n",
              "3            0.0                  0.0  \n",
              "4            0.0                  0.0  \n",
              "\n",
              "[5 rows x 107 columns]"
            ],
            "text/html": [
              "\n",
              "  <div id=\"df-862a7b41-e104-4887-8728-564aebf1392a\" class=\"colab-df-container\">\n",
              "    <div>\n",
              "<style scoped>\n",
              "    .dataframe tbody tr th:only-of-type {\n",
              "        vertical-align: middle;\n",
              "    }\n",
              "\n",
              "    .dataframe tbody tr th {\n",
              "        vertical-align: top;\n",
              "    }\n",
              "\n",
              "    .dataframe thead th {\n",
              "        text-align: right;\n",
              "    }\n",
              "</style>\n",
              "<table border=\"1\" class=\"dataframe\">\n",
              "  <thead>\n",
              "    <tr style=\"text-align: right;\">\n",
              "      <th></th>\n",
              "      <th>Sender_account</th>\n",
              "      <th>Receiver_account</th>\n",
              "      <th>Amount</th>\n",
              "      <th>Year</th>\n",
              "      <th>Month</th>\n",
              "      <th>Day</th>\n",
              "      <th>Hour</th>\n",
              "      <th>Minute</th>\n",
              "      <th>Second</th>\n",
              "      <th>Payment_currency_Albanian lek</th>\n",
              "      <th>...</th>\n",
              "      <th>Laundering_type_Normal_Plus_Mutual</th>\n",
              "      <th>Laundering_type_Normal_Small_Fan_Out</th>\n",
              "      <th>Laundering_type_Normal_single_large</th>\n",
              "      <th>Laundering_type_Scatter-Gather</th>\n",
              "      <th>Laundering_type_Single_large</th>\n",
              "      <th>Laundering_type_Smurfing</th>\n",
              "      <th>Laundering_type_Stacked Bipartite</th>\n",
              "      <th>Laundering_type_Structuring</th>\n",
              "      <th>Is_Laundering</th>\n",
              "      <th>high_risk_countries</th>\n",
              "    </tr>\n",
              "  </thead>\n",
              "  <tbody>\n",
              "    <tr>\n",
              "      <th>0</th>\n",
              "      <td>4248061080</td>\n",
              "      <td>9527052910</td>\n",
              "      <td>13480.74</td>\n",
              "      <td>2023</td>\n",
              "      <td>8</td>\n",
              "      <td>14</td>\n",
              "      <td>2</td>\n",
              "      <td>8</td>\n",
              "      <td>46</td>\n",
              "      <td>0</td>\n",
              "      <td>...</td>\n",
              "      <td>0</td>\n",
              "      <td>0</td>\n",
              "      <td>0</td>\n",
              "      <td>0</td>\n",
              "      <td>0</td>\n",
              "      <td>0</td>\n",
              "      <td>0</td>\n",
              "      <td>0</td>\n",
              "      <td>0.0</td>\n",
              "      <td>0.0</td>\n",
              "    </tr>\n",
              "    <tr>\n",
              "      <th>1</th>\n",
              "      <td>9130896737</td>\n",
              "      <td>908371799</td>\n",
              "      <td>10480.05</td>\n",
              "      <td>2023</td>\n",
              "      <td>7</td>\n",
              "      <td>2</td>\n",
              "      <td>19</td>\n",
              "      <td>48</td>\n",
              "      <td>23</td>\n",
              "      <td>0</td>\n",
              "      <td>...</td>\n",
              "      <td>0</td>\n",
              "      <td>0</td>\n",
              "      <td>0</td>\n",
              "      <td>0</td>\n",
              "      <td>0</td>\n",
              "      <td>0</td>\n",
              "      <td>0</td>\n",
              "      <td>0</td>\n",
              "      <td>0.0</td>\n",
              "      <td>0.0</td>\n",
              "    </tr>\n",
              "    <tr>\n",
              "      <th>2</th>\n",
              "      <td>1466348255</td>\n",
              "      <td>8545558838</td>\n",
              "      <td>26232.35</td>\n",
              "      <td>2023</td>\n",
              "      <td>7</td>\n",
              "      <td>22</td>\n",
              "      <td>12</td>\n",
              "      <td>4</td>\n",
              "      <td>24</td>\n",
              "      <td>0</td>\n",
              "      <td>...</td>\n",
              "      <td>0</td>\n",
              "      <td>0</td>\n",
              "      <td>0</td>\n",
              "      <td>0</td>\n",
              "      <td>0</td>\n",
              "      <td>0</td>\n",
              "      <td>0</td>\n",
              "      <td>0</td>\n",
              "      <td>0.0</td>\n",
              "      <td>0.0</td>\n",
              "    </tr>\n",
              "    <tr>\n",
              "      <th>3</th>\n",
              "      <td>2181923623</td>\n",
              "      <td>6234034932</td>\n",
              "      <td>447.07</td>\n",
              "      <td>2022</td>\n",
              "      <td>10</td>\n",
              "      <td>28</td>\n",
              "      <td>17</td>\n",
              "      <td>8</td>\n",
              "      <td>2</td>\n",
              "      <td>0</td>\n",
              "      <td>...</td>\n",
              "      <td>0</td>\n",
              "      <td>0</td>\n",
              "      <td>0</td>\n",
              "      <td>0</td>\n",
              "      <td>0</td>\n",
              "      <td>0</td>\n",
              "      <td>0</td>\n",
              "      <td>0</td>\n",
              "      <td>0.0</td>\n",
              "      <td>0.0</td>\n",
              "    </tr>\n",
              "    <tr>\n",
              "      <th>4</th>\n",
              "      <td>8596132461</td>\n",
              "      <td>3638213339</td>\n",
              "      <td>1005.62</td>\n",
              "      <td>2023</td>\n",
              "      <td>2</td>\n",
              "      <td>21</td>\n",
              "      <td>22</td>\n",
              "      <td>44</td>\n",
              "      <td>17</td>\n",
              "      <td>0</td>\n",
              "      <td>...</td>\n",
              "      <td>0</td>\n",
              "      <td>0</td>\n",
              "      <td>0</td>\n",
              "      <td>0</td>\n",
              "      <td>0</td>\n",
              "      <td>0</td>\n",
              "      <td>0</td>\n",
              "      <td>0</td>\n",
              "      <td>0.0</td>\n",
              "      <td>0.0</td>\n",
              "    </tr>\n",
              "  </tbody>\n",
              "</table>\n",
              "<p>5 rows × 107 columns</p>\n",
              "</div>\n",
              "    <div class=\"colab-df-buttons\">\n",
              "\n",
              "  <div class=\"colab-df-container\">\n",
              "    <button class=\"colab-df-convert\" onclick=\"convertToInteractive('df-862a7b41-e104-4887-8728-564aebf1392a')\"\n",
              "            title=\"Convert this dataframe to an interactive table.\"\n",
              "            style=\"display:none;\">\n",
              "\n",
              "  <svg xmlns=\"http://www.w3.org/2000/svg\" height=\"24px\" viewBox=\"0 -960 960 960\">\n",
              "    <path d=\"M120-120v-720h720v720H120Zm60-500h600v-160H180v160Zm220 220h160v-160H400v160Zm0 220h160v-160H400v160ZM180-400h160v-160H180v160Zm440 0h160v-160H620v160ZM180-180h160v-160H180v160Zm440 0h160v-160H620v160Z\"/>\n",
              "  </svg>\n",
              "    </button>\n",
              "\n",
              "  <style>\n",
              "    .colab-df-container {\n",
              "      display:flex;\n",
              "      gap: 12px;\n",
              "    }\n",
              "\n",
              "    .colab-df-convert {\n",
              "      background-color: #E8F0FE;\n",
              "      border: none;\n",
              "      border-radius: 50%;\n",
              "      cursor: pointer;\n",
              "      display: none;\n",
              "      fill: #1967D2;\n",
              "      height: 32px;\n",
              "      padding: 0 0 0 0;\n",
              "      width: 32px;\n",
              "    }\n",
              "\n",
              "    .colab-df-convert:hover {\n",
              "      background-color: #E2EBFA;\n",
              "      box-shadow: 0px 1px 2px rgba(60, 64, 67, 0.3), 0px 1px 3px 1px rgba(60, 64, 67, 0.15);\n",
              "      fill: #174EA6;\n",
              "    }\n",
              "\n",
              "    .colab-df-buttons div {\n",
              "      margin-bottom: 4px;\n",
              "    }\n",
              "\n",
              "    [theme=dark] .colab-df-convert {\n",
              "      background-color: #3B4455;\n",
              "      fill: #D2E3FC;\n",
              "    }\n",
              "\n",
              "    [theme=dark] .colab-df-convert:hover {\n",
              "      background-color: #434B5C;\n",
              "      box-shadow: 0px 1px 3px 1px rgba(0, 0, 0, 0.15);\n",
              "      filter: drop-shadow(0px 1px 2px rgba(0, 0, 0, 0.3));\n",
              "      fill: #FFFFFF;\n",
              "    }\n",
              "  </style>\n",
              "\n",
              "    <script>\n",
              "      const buttonEl =\n",
              "        document.querySelector('#df-862a7b41-e104-4887-8728-564aebf1392a button.colab-df-convert');\n",
              "      buttonEl.style.display =\n",
              "        google.colab.kernel.accessAllowed ? 'block' : 'none';\n",
              "\n",
              "      async function convertToInteractive(key) {\n",
              "        const element = document.querySelector('#df-862a7b41-e104-4887-8728-564aebf1392a');\n",
              "        const dataTable =\n",
              "          await google.colab.kernel.invokeFunction('convertToInteractive',\n",
              "                                                    [key], {});\n",
              "        if (!dataTable) return;\n",
              "\n",
              "        const docLinkHtml = 'Like what you see? Visit the ' +\n",
              "          '<a target=\"_blank\" href=https://colab.research.google.com/notebooks/data_table.ipynb>data table notebook</a>'\n",
              "          + ' to learn more about interactive tables.';\n",
              "        element.innerHTML = '';\n",
              "        dataTable['output_type'] = 'display_data';\n",
              "        await google.colab.output.renderOutput(dataTable, element);\n",
              "        const docLink = document.createElement('div');\n",
              "        docLink.innerHTML = docLinkHtml;\n",
              "        element.appendChild(docLink);\n",
              "      }\n",
              "    </script>\n",
              "  </div>\n",
              "\n",
              "\n",
              "<div id=\"df-1cde24c3-0905-4e30-9678-1d86bc92d552\">\n",
              "  <button class=\"colab-df-quickchart\" onclick=\"quickchart('df-1cde24c3-0905-4e30-9678-1d86bc92d552')\"\n",
              "            title=\"Suggest charts\"\n",
              "            style=\"display:none;\">\n",
              "\n",
              "<svg xmlns=\"http://www.w3.org/2000/svg\" height=\"24px\"viewBox=\"0 0 24 24\"\n",
              "     width=\"24px\">\n",
              "    <g>\n",
              "        <path d=\"M19 3H5c-1.1 0-2 .9-2 2v14c0 1.1.9 2 2 2h14c1.1 0 2-.9 2-2V5c0-1.1-.9-2-2-2zM9 17H7v-7h2v7zm4 0h-2V7h2v10zm4 0h-2v-4h2v4z\"/>\n",
              "    </g>\n",
              "</svg>\n",
              "  </button>\n",
              "\n",
              "<style>\n",
              "  .colab-df-quickchart {\n",
              "      --bg-color: #E8F0FE;\n",
              "      --fill-color: #1967D2;\n",
              "      --hover-bg-color: #E2EBFA;\n",
              "      --hover-fill-color: #174EA6;\n",
              "      --disabled-fill-color: #AAA;\n",
              "      --disabled-bg-color: #DDD;\n",
              "  }\n",
              "\n",
              "  [theme=dark] .colab-df-quickchart {\n",
              "      --bg-color: #3B4455;\n",
              "      --fill-color: #D2E3FC;\n",
              "      --hover-bg-color: #434B5C;\n",
              "      --hover-fill-color: #FFFFFF;\n",
              "      --disabled-bg-color: #3B4455;\n",
              "      --disabled-fill-color: #666;\n",
              "  }\n",
              "\n",
              "  .colab-df-quickchart {\n",
              "    background-color: var(--bg-color);\n",
              "    border: none;\n",
              "    border-radius: 50%;\n",
              "    cursor: pointer;\n",
              "    display: none;\n",
              "    fill: var(--fill-color);\n",
              "    height: 32px;\n",
              "    padding: 0;\n",
              "    width: 32px;\n",
              "  }\n",
              "\n",
              "  .colab-df-quickchart:hover {\n",
              "    background-color: var(--hover-bg-color);\n",
              "    box-shadow: 0 1px 2px rgba(60, 64, 67, 0.3), 0 1px 3px 1px rgba(60, 64, 67, 0.15);\n",
              "    fill: var(--button-hover-fill-color);\n",
              "  }\n",
              "\n",
              "  .colab-df-quickchart-complete:disabled,\n",
              "  .colab-df-quickchart-complete:disabled:hover {\n",
              "    background-color: var(--disabled-bg-color);\n",
              "    fill: var(--disabled-fill-color);\n",
              "    box-shadow: none;\n",
              "  }\n",
              "\n",
              "  .colab-df-spinner {\n",
              "    border: 2px solid var(--fill-color);\n",
              "    border-color: transparent;\n",
              "    border-bottom-color: var(--fill-color);\n",
              "    animation:\n",
              "      spin 1s steps(1) infinite;\n",
              "  }\n",
              "\n",
              "  @keyframes spin {\n",
              "    0% {\n",
              "      border-color: transparent;\n",
              "      border-bottom-color: var(--fill-color);\n",
              "      border-left-color: var(--fill-color);\n",
              "    }\n",
              "    20% {\n",
              "      border-color: transparent;\n",
              "      border-left-color: var(--fill-color);\n",
              "      border-top-color: var(--fill-color);\n",
              "    }\n",
              "    30% {\n",
              "      border-color: transparent;\n",
              "      border-left-color: var(--fill-color);\n",
              "      border-top-color: var(--fill-color);\n",
              "      border-right-color: var(--fill-color);\n",
              "    }\n",
              "    40% {\n",
              "      border-color: transparent;\n",
              "      border-right-color: var(--fill-color);\n",
              "      border-top-color: var(--fill-color);\n",
              "    }\n",
              "    60% {\n",
              "      border-color: transparent;\n",
              "      border-right-color: var(--fill-color);\n",
              "    }\n",
              "    80% {\n",
              "      border-color: transparent;\n",
              "      border-right-color: var(--fill-color);\n",
              "      border-bottom-color: var(--fill-color);\n",
              "    }\n",
              "    90% {\n",
              "      border-color: transparent;\n",
              "      border-bottom-color: var(--fill-color);\n",
              "    }\n",
              "  }\n",
              "</style>\n",
              "\n",
              "  <script>\n",
              "    async function quickchart(key) {\n",
              "      const quickchartButtonEl =\n",
              "        document.querySelector('#' + key + ' button');\n",
              "      quickchartButtonEl.disabled = true;  // To prevent multiple clicks.\n",
              "      quickchartButtonEl.classList.add('colab-df-spinner');\n",
              "      try {\n",
              "        const charts = await google.colab.kernel.invokeFunction(\n",
              "            'suggestCharts', [key], {});\n",
              "      } catch (error) {\n",
              "        console.error('Error during call to suggestCharts:', error);\n",
              "      }\n",
              "      quickchartButtonEl.classList.remove('colab-df-spinner');\n",
              "      quickchartButtonEl.classList.add('colab-df-quickchart-complete');\n",
              "    }\n",
              "    (() => {\n",
              "      let quickchartButtonEl =\n",
              "        document.querySelector('#df-1cde24c3-0905-4e30-9678-1d86bc92d552 button');\n",
              "      quickchartButtonEl.style.display =\n",
              "        google.colab.kernel.accessAllowed ? 'block' : 'none';\n",
              "    })();\n",
              "  </script>\n",
              "</div>\n",
              "\n",
              "    </div>\n",
              "  </div>\n"
            ],
            "application/vnd.google.colaboratory.intrinsic+json": {
              "type": "dataframe",
              "variable_name": "df"
            }
          },
          "metadata": {},
          "execution_count": 25
        }
      ]
    },
    {
      "cell_type": "code",
      "source": [
        "df.dtypes"
      ],
      "metadata": {
        "colab": {
          "base_uri": "https://localhost:8080/"
        },
        "id": "B_MA7Dic8MVS",
        "outputId": "41834d16-2828-4545-c7c8-3e32e2ad26fb"
      },
      "execution_count": 26,
      "outputs": [
        {
          "output_type": "execute_result",
          "data": {
            "text/plain": [
              "Sender_account                         int64\n",
              "Receiver_account                       int64\n",
              "Amount                               float64\n",
              "Year                                   int64\n",
              "Month                                  int64\n",
              "                                      ...   \n",
              "Laundering_type_Smurfing               int64\n",
              "Laundering_type_Stacked Bipartite      int64\n",
              "Laundering_type_Structuring            int64\n",
              "Is_Laundering                        float64\n",
              "high_risk_countries                  float64\n",
              "Length: 107, dtype: object"
            ]
          },
          "metadata": {},
          "execution_count": 26
        }
      ]
    },
    {
      "cell_type": "code",
      "source": [
        "if df.isnull().values.any():\n",
        "    df = df.dropna()"
      ],
      "metadata": {
        "id": "6qfSqJ0lsHz2"
      },
      "execution_count": 27,
      "outputs": []
    },
    {
      "cell_type": "code",
      "source": [
        "#Selecting the X as everything except the target\n",
        "X = df.drop(columns=['Is_Laundering'])\n",
        "y = df['Is_Laundering']"
      ],
      "metadata": {
        "id": "I84az42B9CQn"
      },
      "execution_count": 28,
      "outputs": []
    },
    {
      "cell_type": "markdown",
      "source": [
        "THis is the start of the auto encode codes."
      ],
      "metadata": {
        "id": "l3AINGAEZ-Pp"
      }
    },
    {
      "cell_type": "code",
      "source": [
        "scaler = MinMaxScaler()\n",
        "X_scaled = scaler.fit_transform(X)"
      ],
      "metadata": {
        "id": "Mw4oQ_7r9pxy"
      },
      "execution_count": 29,
      "outputs": []
    },
    {
      "cell_type": "code",
      "source": [
        "if np.isnan(X_scaled).any() or np.isinf(X_scaled).any():\n",
        "    print(\"Scaled data contains NaN or Infinite values\")"
      ],
      "metadata": {
        "id": "Dx19JimxsXCa"
      },
      "execution_count": 30,
      "outputs": []
    },
    {
      "cell_type": "code",
      "source": [
        "X_train, X_test, y_train, y_test = train_test_split(X_scaled, y, test_size=0.2, random_state=42)"
      ],
      "metadata": {
        "id": "eAw5pH_C9rwu"
      },
      "execution_count": 31,
      "outputs": []
    },
    {
      "cell_type": "markdown",
      "source": [
        "We derive the functionality to a factor of 8."
      ],
      "metadata": {
        "id": "d8I36UiMaE_t"
      }
    },
    {
      "cell_type": "code",
      "source": [
        "input_dim = X_train.shape[1]\n",
        "encoding_dim = 8"
      ],
      "metadata": {
        "id": "hQcnDfpM9uNr"
      },
      "execution_count": 32,
      "outputs": []
    },
    {
      "cell_type": "code",
      "source": [
        "input_layer = Input(shape=(input_dim,))"
      ],
      "metadata": {
        "id": "5S2NKjvI9w52"
      },
      "execution_count": 33,
      "outputs": []
    },
    {
      "cell_type": "code",
      "source": [
        "encoder = Dense(64, activation='relu', kernel_initializer='he_normal')(input_layer)\n",
        "encoder = Dense(32, activation='relu', kernel_initializer='he_normal')(encoder)\n",
        "encoded = Dense(encoding_dim, activation='relu', kernel_initializer='he_normal')(encoder)"
      ],
      "metadata": {
        "id": "AojbTNgB9zNB"
      },
      "execution_count": 34,
      "outputs": []
    },
    {
      "cell_type": "code",
      "source": [
        "decoder = Dense(32, activation='relu', kernel_initializer='he_normal')(encoded)\n",
        "decoder = Dense(64, activation='relu', kernel_initializer='he_normal')(decoder)\n",
        "decoded = Dense(input_dim, activation='sigmoid')(decoder)"
      ],
      "metadata": {
        "id": "AlegSMIP91tA"
      },
      "execution_count": 35,
      "outputs": []
    },
    {
      "cell_type": "code",
      "source": [
        "autoencoder = Model(inputs=input_layer, outputs=decoded)"
      ],
      "metadata": {
        "id": "Ymv7frzn94Gn"
      },
      "execution_count": 36,
      "outputs": []
    },
    {
      "cell_type": "code",
      "source": [
        "autoencoder.summary()"
      ],
      "metadata": {
        "colab": {
          "base_uri": "https://localhost:8080/"
        },
        "id": "N7nfEv2998Dg",
        "outputId": "c10aa521-d6d7-435a-b969-70e0b08a4b72"
      },
      "execution_count": 37,
      "outputs": [
        {
          "output_type": "stream",
          "name": "stdout",
          "text": [
            "Model: \"model\"\n",
            "_________________________________________________________________\n",
            " Layer (type)                Output Shape              Param #   \n",
            "=================================================================\n",
            " input_1 (InputLayer)        [(None, 106)]             0         \n",
            "                                                                 \n",
            " dense (Dense)               (None, 64)                6848      \n",
            "                                                                 \n",
            " dense_1 (Dense)             (None, 32)                2080      \n",
            "                                                                 \n",
            " dense_2 (Dense)             (None, 8)                 264       \n",
            "                                                                 \n",
            " dense_3 (Dense)             (None, 32)                288       \n",
            "                                                                 \n",
            " dense_4 (Dense)             (None, 64)                2112      \n",
            "                                                                 \n",
            " dense_5 (Dense)             (None, 106)               6890      \n",
            "                                                                 \n",
            "=================================================================\n",
            "Total params: 18482 (72.20 KB)\n",
            "Trainable params: 18482 (72.20 KB)\n",
            "Non-trainable params: 0 (0.00 Byte)\n",
            "_________________________________________________________________\n"
          ]
        }
      ]
    },
    {
      "cell_type": "code",
      "source": [
        "optimizer = Adam(learning_rate=0.0001)\n",
        "autoencoder.compile(optimizer=optimizer, loss='mean_squared_error')"
      ],
      "metadata": {
        "id": "XLinPYpwffsV"
      },
      "execution_count": 38,
      "outputs": []
    },
    {
      "cell_type": "code",
      "source": [
        "history=autoencoder.fit(X_train, X_train,\n",
        "                epochs=50,\n",
        "                batch_size=256,\n",
        "                shuffle=True,\n",
        "                validation_data=(X_test, X_test))"
      ],
      "metadata": {
        "colab": {
          "base_uri": "https://localhost:8080/"
        },
        "id": "JNO-aEDY9_4i",
        "outputId": "07083f10-8f6e-4b07-f53a-dfa996055d0a"
      },
      "execution_count": 41,
      "outputs": [
        {
          "output_type": "stream",
          "name": "stdout",
          "text": [
            "Epoch 1/50\n",
            "177/177 [==============================] - 1s 6ms/step - loss: 0.0014 - val_loss: 0.0013\n",
            "Epoch 2/50\n",
            "177/177 [==============================] - 1s 6ms/step - loss: 0.0014 - val_loss: 0.0013\n",
            "Epoch 3/50\n",
            "177/177 [==============================] - 1s 7ms/step - loss: 0.0013 - val_loss: 0.0013\n",
            "Epoch 4/50\n",
            "177/177 [==============================] - 1s 4ms/step - loss: 0.0013 - val_loss: 0.0013\n",
            "Epoch 5/50\n",
            "177/177 [==============================] - 1s 4ms/step - loss: 0.0013 - val_loss: 0.0013\n",
            "Epoch 6/50\n",
            "177/177 [==============================] - 1s 4ms/step - loss: 0.0013 - val_loss: 0.0013\n",
            "Epoch 7/50\n",
            "177/177 [==============================] - 1s 4ms/step - loss: 0.0013 - val_loss: 0.0012\n",
            "Epoch 8/50\n",
            "177/177 [==============================] - 1s 4ms/step - loss: 0.0013 - val_loss: 0.0012\n",
            "Epoch 9/50\n",
            "177/177 [==============================] - 1s 5ms/step - loss: 0.0012 - val_loss: 0.0012\n",
            "Epoch 10/50\n",
            "177/177 [==============================] - 1s 5ms/step - loss: 0.0012 - val_loss: 0.0012\n",
            "Epoch 11/50\n",
            "177/177 [==============================] - 1s 5ms/step - loss: 0.0012 - val_loss: 0.0012\n",
            "Epoch 12/50\n",
            "177/177 [==============================] - 1s 4ms/step - loss: 0.0012 - val_loss: 0.0012\n",
            "Epoch 13/50\n",
            "177/177 [==============================] - 1s 5ms/step - loss: 0.0012 - val_loss: 0.0011\n",
            "Epoch 14/50\n",
            "177/177 [==============================] - 1s 5ms/step - loss: 0.0012 - val_loss: 0.0011\n",
            "Epoch 15/50\n",
            "177/177 [==============================] - 1s 5ms/step - loss: 0.0011 - val_loss: 0.0011\n",
            "Epoch 16/50\n",
            "177/177 [==============================] - 1s 5ms/step - loss: 0.0011 - val_loss: 0.0011\n",
            "Epoch 17/50\n",
            "177/177 [==============================] - 1s 6ms/step - loss: 0.0011 - val_loss: 0.0011\n",
            "Epoch 18/50\n",
            "177/177 [==============================] - 1s 6ms/step - loss: 0.0011 - val_loss: 0.0011\n",
            "Epoch 19/50\n",
            "177/177 [==============================] - 1s 5ms/step - loss: 0.0011 - val_loss: 0.0011\n",
            "Epoch 20/50\n",
            "177/177 [==============================] - 1s 5ms/step - loss: 0.0011 - val_loss: 0.0010\n",
            "Epoch 21/50\n",
            "177/177 [==============================] - 1s 4ms/step - loss: 0.0011 - val_loss: 0.0010\n",
            "Epoch 22/50\n",
            "177/177 [==============================] - 1s 4ms/step - loss: 0.0011 - val_loss: 0.0010\n",
            "Epoch 23/50\n",
            "177/177 [==============================] - 1s 4ms/step - loss: 0.0010 - val_loss: 0.0010\n",
            "Epoch 24/50\n",
            "177/177 [==============================] - 1s 5ms/step - loss: 0.0010 - val_loss: 9.9775e-04\n",
            "Epoch 25/50\n",
            "177/177 [==============================] - 1s 5ms/step - loss: 0.0010 - val_loss: 9.8704e-04\n",
            "Epoch 26/50\n",
            "177/177 [==============================] - 1s 5ms/step - loss: 0.0010 - val_loss: 9.7697e-04\n",
            "Epoch 27/50\n",
            "177/177 [==============================] - 1s 5ms/step - loss: 9.9539e-04 - val_loss: 9.6854e-04\n",
            "Epoch 28/50\n",
            "177/177 [==============================] - 1s 4ms/step - loss: 9.8497e-04 - val_loss: 9.5904e-04\n",
            "Epoch 29/50\n",
            "177/177 [==============================] - 1s 5ms/step - loss: 9.7599e-04 - val_loss: 9.5010e-04\n",
            "Epoch 30/50\n",
            "177/177 [==============================] - 1s 5ms/step - loss: 9.6610e-04 - val_loss: 9.4046e-04\n",
            "Epoch 31/50\n",
            "177/177 [==============================] - 1s 5ms/step - loss: 9.5729e-04 - val_loss: 9.3607e-04\n",
            "Epoch 32/50\n",
            "177/177 [==============================] - 1s 7ms/step - loss: 9.4856e-04 - val_loss: 9.2220e-04\n",
            "Epoch 33/50\n",
            "177/177 [==============================] - 1s 7ms/step - loss: 9.4016e-04 - val_loss: 9.1329e-04\n",
            "Epoch 34/50\n",
            "177/177 [==============================] - 1s 4ms/step - loss: 9.3161e-04 - val_loss: 9.0593e-04\n",
            "Epoch 35/50\n",
            "177/177 [==============================] - 1s 4ms/step - loss: 9.2276e-04 - val_loss: 8.9967e-04\n",
            "Epoch 36/50\n",
            "177/177 [==============================] - 1s 4ms/step - loss: 9.1468e-04 - val_loss: 8.9217e-04\n",
            "Epoch 37/50\n",
            "177/177 [==============================] - 1s 5ms/step - loss: 9.0690e-04 - val_loss: 8.8313e-04\n",
            "Epoch 38/50\n",
            "177/177 [==============================] - 1s 4ms/step - loss: 8.9933e-04 - val_loss: 8.7954e-04\n",
            "Epoch 39/50\n",
            "177/177 [==============================] - 1s 4ms/step - loss: 8.9127e-04 - val_loss: 8.6905e-04\n",
            "Epoch 40/50\n",
            "177/177 [==============================] - 1s 4ms/step - loss: 8.8427e-04 - val_loss: 8.6101e-04\n",
            "Epoch 41/50\n",
            "177/177 [==============================] - 1s 4ms/step - loss: 8.7792e-04 - val_loss: 8.5766e-04\n",
            "Epoch 42/50\n",
            "177/177 [==============================] - 1s 4ms/step - loss: 8.7098e-04 - val_loss: 8.4866e-04\n",
            "Epoch 43/50\n",
            "177/177 [==============================] - 1s 4ms/step - loss: 8.6363e-04 - val_loss: 8.4342e-04\n",
            "Epoch 44/50\n",
            "177/177 [==============================] - 1s 5ms/step - loss: 8.5730e-04 - val_loss: 8.3608e-04\n",
            "Epoch 45/50\n",
            "177/177 [==============================] - 1s 4ms/step - loss: 8.5176e-04 - val_loss: 8.3387e-04\n",
            "Epoch 46/50\n",
            "177/177 [==============================] - 1s 4ms/step - loss: 8.4632e-04 - val_loss: 8.2455e-04\n",
            "Epoch 47/50\n",
            "177/177 [==============================] - 1s 6ms/step - loss: 8.4036e-04 - val_loss: 8.1966e-04\n",
            "Epoch 48/50\n",
            "177/177 [==============================] - 1s 6ms/step - loss: 8.3503e-04 - val_loss: 8.1667e-04\n",
            "Epoch 49/50\n",
            "177/177 [==============================] - 1s 6ms/step - loss: 8.3047e-04 - val_loss: 8.1069e-04\n",
            "Epoch 50/50\n",
            "177/177 [==============================] - 1s 4ms/step - loss: 8.2518e-04 - val_loss: 8.0638e-04\n"
          ]
        }
      ]
    },
    {
      "cell_type": "code",
      "source": [
        "# Visualize the training and validation loss\n",
        "plt.plot(history.history['loss'], label='Training Loss')\n",
        "plt.plot(history.history['val_loss'], label='Validation Loss')\n",
        "plt.xlabel('Epochs')\n",
        "plt.ylabel('Loss')\n",
        "plt.legend()\n",
        "plt.show()"
      ],
      "metadata": {
        "colab": {
          "base_uri": "https://localhost:8080/",
          "height": 449
        },
        "id": "1Dv7p5xd88TC",
        "outputId": "8f90857e-c7a3-4703-b3d9-5b07f98011a2"
      },
      "execution_count": 42,
      "outputs": [
        {
          "output_type": "display_data",
          "data": {
            "text/plain": [
              "<Figure size 640x480 with 1 Axes>"
            ],
            "image/png": "[encoded data removed]"
          },
          "metadata": {}
        }
      ]
    },
    {
      "cell_type": "code",
      "source": [
        "encoder_model = Model(inputs=input_layer, outputs=encoded)"
      ],
      "metadata": {
        "id": "bmrTZFjre6Sh"
      },
      "execution_count": 43,
      "outputs": []
    },
    {
      "cell_type": "code",
      "source": [
        "encoded_data = encoder_model.predict(X_scaled)"
      ],
      "metadata": {
        "colab": {
          "base_uri": "https://localhost:8080/"
        },
        "id": "ICA6nJ5Ue7aW",
        "outputId": "fb00f5de-71e9-437c-ed16-9f7e574ebeee"
      },
      "execution_count": 44,
      "outputs": [
        {
          "output_type": "stream",
          "name": "stdout",
          "text": [
            "1769/1769 [==============================] - 3s 1ms/step\n"
          ]
        }
      ]
    },
    {
      "cell_type": "code",
      "source": [
        "if np.isnan(encoded_data).any() or np.isinf(encoded_data).any():\n",
        "    print(\"Encoded data contains NaN or Infinite values\")"
      ],
      "metadata": {
        "id": "F1CGpNE4tBWu"
      },
      "execution_count": 45,
      "outputs": []
    },
    {
      "cell_type": "code",
      "source": [
        "encoded_features_df = pd.DataFrame(encoded_data, columns=[f'Encoded_Feature_{i+1}' for i in range(encoding_dim)])"
      ],
      "metadata": {
        "id": "3QTL-V5we9gs"
      },
      "execution_count": 46,
      "outputs": []
    },
    {
      "cell_type": "code",
      "source": [
        "new_dataset = pd.concat([encoded_features_df, y.reset_index(drop=True)], axis=1)"
      ],
      "metadata": {
        "id": "Z0z7qYS1e_TY"
      },
      "execution_count": 47,
      "outputs": []
    },
    {
      "cell_type": "code",
      "source": [
        "new_dataset.to_csv('encoded_dataset.csv', index=False)"
      ],
      "metadata": {
        "id": "gbTRqgkEfBMf"
      },
      "execution_count": 48,
      "outputs": []
    },
    {
      "cell_type": "code",
      "source": [
        "autoencoder.save('autoencoder_model.h5')\n",
        "encoder_model.save('encoder_model.h5')"
      ],
      "metadata": {
        "colab": {
          "base_uri": "https://localhost:8080/"
        },
        "id": "93unYw_7fDdK",
        "outputId": "5b257898-ccc2-4f9f-9814-fa46996f16b1"
      },
      "execution_count": 49,
      "outputs": [
        {
          "output_type": "stream",
          "name": "stderr",
          "text": [
            "/usr/local/lib/python3.10/dist-packages/keras/src/engine/training.py:3103: UserWarning: You are saving your model as an HDF5 file via `model.save()`. This file format is considered legacy. We recommend using instead the native Keras format, e.g. `model.save('my_model.keras')`.\n",
            "  saving_api.save_model(\n",
            "WARNING:tensorflow:Compiled the loaded model, but the compiled metrics have yet to be built. `model.compile_metrics` will be empty until you train or evaluate the model.\n"
          ]
        }
      ]
    },
    {
      "cell_type": "code",
      "source": [
        "print(new_dataset.head())"
      ],
      "metadata": {
        "colab": {
          "base_uri": "https://localhost:8080/"
        },
        "id": "qDQOhykmfFWm",
        "outputId": "002a6491-3f48-4f15-dab6-c6f7f769a946"
      },
      "execution_count": 50,
      "outputs": [
        {
          "output_type": "stream",
          "name": "stdout",
          "text": [
            "   Encoded_Feature_1  Encoded_Feature_2  Encoded_Feature_3  Encoded_Feature_4  \\\n",
            "0           3.293396           4.346029          14.844295           4.056528   \n",
            "1           4.788928           3.337140          11.197867           7.290730   \n",
            "2           6.970752           4.481205          17.436728           8.555552   \n",
            "3           5.223630           3.719527          15.729836           7.358238   \n",
            "4           7.048837           5.328568          18.144611          10.364649   \n",
            "\n",
            "   Encoded_Feature_5  Encoded_Feature_6  Encoded_Feature_7  Encoded_Feature_8  \\\n",
            "0           2.299618           4.676997                0.0           3.068452   \n",
            "1           4.435658           7.352138                0.0           2.234970   \n",
            "2           6.559956           9.079390                0.0           4.586062   \n",
            "3           6.303243           9.313015                0.0           4.881126   \n",
            "4           5.985622          10.521779                0.0           3.927281   \n",
            "\n",
            "   Is_Laundering  \n",
            "0            0.0  \n",
            "1            0.0  \n",
            "2            0.0  \n",
            "3            0.0  \n",
            "4            0.0  \n"
          ]
        }
      ]
    },
    {
      "cell_type": "code",
      "source": [],
      "metadata": {
        "id": "tXi3yVscwGQd"
      },
      "execution_count": null,
      "outputs": []
    }
  ]
}